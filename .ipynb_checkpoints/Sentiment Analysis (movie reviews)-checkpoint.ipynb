{
 "cells": [
  {
   "cell_type": "code",
   "execution_count": 1,
   "id": "d8e2ac49-3642-4f90-b0ef-35c15c74a51a",
   "metadata": {},
   "outputs": [
    {
     "name": "stdout",
     "output_type": "stream",
     "text": [
      "Requirement already satisfied: patool in c:\\users\\hp\\anaconda3\\lib\\site-packages (3.1.3)Note: you may need to restart the kernel to use updated packages.\n",
      "\n"
     ]
    }
   ],
   "source": [
    "pip install patool"
   ]
  },
  {
   "cell_type": "code",
   "execution_count": 2,
   "id": "5920e31f-fe82-4d18-81e3-f21b3bcbc6b2",
   "metadata": {},
   "outputs": [],
   "source": [
    "import os\n",
    "from tensorflow.keras.preprocessing.text import Tokenizer\n",
    "from tensorflow.keras.preprocessing.sequence import pad_sequences\n",
    "import json\n",
    "import patoolib\n",
    "import pandas as pd\n",
    "from sklearn.model_selection import train_test_split\n",
    "from tensorflow.keras.models import Sequential\n",
    "from tensorflow.keras.layers import Dense, Embedding, LSTM, Dropout, Bidirectional\n",
    "\n"
   ]
  },
  {
   "cell_type": "code",
   "execution_count": 3,
   "id": "c6cbdedf-a340-42c7-84db-c3e18300c9ed",
   "metadata": {},
   "outputs": [
    {
     "name": "stderr",
     "output_type": "stream",
     "text": [
      "'kaggle' is not recognized as an internal or external command,\n",
      "operable program or batch file.\n",
      "C:\\Users\\Hp\\AppData\\Local\\Temp\\ipykernel_14272\\2946503675.py:10: FutureWarning: Downcasting behavior in `replace` is deprecated and will be removed in a future version. To retain the old behavior, explicitly call `result.infer_objects(copy=False)`. To opt-in to the future behavior, set `pd.set_option('future.no_silent_downcasting', True)`\n",
      "  dataset.replace({\"sentiment\": {\"positive\": 1, \"negative\": 0}}, inplace=True)\n"
     ]
    }
   ],
   "source": [
    "# Load Kaggle credentials and dataset\n",
    "kaggle_config = json.load(open(\"kaggle.json\"))\n",
    "os.environ[\"KAGGLE_USERNAME\"] = kaggle_config[\"username\"]\n",
    "os.environ[\"KAGGLE_KEY\"] = kaggle_config[\"key\"]\n",
    "!kaggle datasets download -d lakshmi25npathi/imdb-dataset-of-50k-movie-reviews\n",
    "\n",
    "dataset = pd.read_csv(\"IMDB Dataset.csv\")\n",
    "\n",
    "# Preprocess data and split into training and testing sets\n",
    "dataset.replace({\"sentiment\": {\"positive\": 1, \"negative\": 0}}, inplace=True)\n",
    "train_set, test_set = train_test_split(dataset, test_size=0.2, random_state=42)\n",
    "\n",
    "# Create tokenizer and fit to training data\n",
    "tokenizer = Tokenizer(num_words=5000)\n",
    "tokenizer.fit_on_texts(train_set[\"review\"])"
   ]
  },
  {
   "cell_type": "code",
   "execution_count": 4,
   "id": "b29f5e26-c7a7-420e-9abd-8cedb58080da",
   "metadata": {},
   "outputs": [],
   "source": [
    "X_train = pad_sequences(tokenizer.texts_to_sequences(train_set[\"review\"]), maxlen=200)\n",
    "X_test = pad_sequences(tokenizer.texts_to_sequences(test_set[\"review\"]), maxlen=200)\n",
    "Y_train = train_set[\"sentiment\"]\n",
    "Y_test = test_set[\"sentiment\"]\n"
   ]
  },
  {
   "cell_type": "code",
   "execution_count": 5,
   "id": "d27f4392-f192-4120-a38a-0a4b2b8d8c69",
   "metadata": {},
   "outputs": [
    {
     "name": "stderr",
     "output_type": "stream",
     "text": [
      "C:\\Users\\Hp\\anaconda3\\Lib\\site-packages\\keras\\src\\layers\\core\\embedding.py:90: UserWarning: Argument `input_length` is deprecated. Just remove it.\n",
      "  warnings.warn(\n"
     ]
    },
    {
     "name": "stdout",
     "output_type": "stream",
     "text": [
      "Epoch 1/10\n",
      "\u001b[1m250/250\u001b[0m \u001b[32m━━━━━━━━━━━━━━━━━━━━\u001b[0m\u001b[37m\u001b[0m \u001b[1m50s\u001b[0m 173ms/step - accuracy: 0.6807 - loss: 0.5955 - val_accuracy: 0.8395 - val_loss: 0.3801\n",
      "Epoch 2/10\n",
      "\u001b[1m250/250\u001b[0m \u001b[32m━━━━━━━━━━━━━━━━━━━━\u001b[0m\u001b[37m\u001b[0m \u001b[1m41s\u001b[0m 162ms/step - accuracy: 0.8422 - loss: 0.3794 - val_accuracy: 0.8407 - val_loss: 0.3608\n",
      "Epoch 3/10\n",
      "\u001b[1m250/250\u001b[0m \u001b[32m━━━━━━━━━━━━━━━━━━━━\u001b[0m\u001b[37m\u001b[0m \u001b[1m41s\u001b[0m 165ms/step - accuracy: 0.8694 - loss: 0.3280 - val_accuracy: 0.8446 - val_loss: 0.3545\n",
      "Epoch 4/10\n",
      "\u001b[1m250/250\u001b[0m \u001b[32m━━━━━━━━━━━━━━━━━━━━\u001b[0m\u001b[37m\u001b[0m \u001b[1m40s\u001b[0m 162ms/step - accuracy: 0.8770 - loss: 0.3022 - val_accuracy: 0.8510 - val_loss: 0.3477\n",
      "Epoch 5/10\n",
      "\u001b[1m250/250\u001b[0m \u001b[32m━━━━━━━━━━━━━━━━━━━━\u001b[0m\u001b[37m\u001b[0m \u001b[1m40s\u001b[0m 162ms/step - accuracy: 0.8888 - loss: 0.2808 - val_accuracy: 0.8586 - val_loss: 0.3438\n",
      "Epoch 6/10\n",
      "\u001b[1m250/250\u001b[0m \u001b[32m━━━━━━━━━━━━━━━━━━━━\u001b[0m\u001b[37m\u001b[0m \u001b[1m40s\u001b[0m 160ms/step - accuracy: 0.8932 - loss: 0.2698 - val_accuracy: 0.8591 - val_loss: 0.3443\n",
      "Epoch 7/10\n",
      "\u001b[1m250/250\u001b[0m \u001b[32m━━━━━━━━━━━━━━━━━━━━\u001b[0m\u001b[37m\u001b[0m \u001b[1m40s\u001b[0m 159ms/step - accuracy: 0.9047 - loss: 0.2477 - val_accuracy: 0.8665 - val_loss: 0.3416\n",
      "Epoch 8/10\n",
      "\u001b[1m250/250\u001b[0m \u001b[32m━━━━━━━━━━━━━━━━━━━━\u001b[0m\u001b[37m\u001b[0m \u001b[1m40s\u001b[0m 161ms/step - accuracy: 0.8983 - loss: 0.2552 - val_accuracy: 0.8614 - val_loss: 0.3450\n",
      "Epoch 9/10\n",
      "\u001b[1m250/250\u001b[0m \u001b[32m━━━━━━━━━━━━━━━━━━━━\u001b[0m\u001b[37m\u001b[0m \u001b[1m40s\u001b[0m 158ms/step - accuracy: 0.9084 - loss: 0.2380 - val_accuracy: 0.8700 - val_loss: 0.3532\n",
      "Epoch 10/10\n",
      "\u001b[1m250/250\u001b[0m \u001b[32m━━━━━━━━━━━━━━━━━━━━\u001b[0m\u001b[37m\u001b[0m \u001b[1m39s\u001b[0m 158ms/step - accuracy: 0.9164 - loss: 0.2149 - val_accuracy: 0.8679 - val_loss: 0.3573\n"
     ]
    },
    {
     "data": {
      "text/plain": [
       "<keras.src.callbacks.history.History at 0x2158511ea80>"
      ]
     },
     "execution_count": 5,
     "metadata": {},
     "output_type": "execute_result"
    }
   ],
   "source": [
    "\n",
    "# Define LSTM model architecture\n",
    "lstm_model = Sequential()\n",
    "lstm_model.add(Embedding(input_dim=5000, output_dim=128, input_length=100))\n",
    "lstm_model.add(LSTM(16, dropout=0.2, recurrent_dropout=0.2))\n",
    "lstm_model.add(Dropout(0.2))\n",
    "lstm_model.add(Dense(1, activation=\"sigmoid\"))\n",
    "\n",
    "\n",
    "# Compile and train models\n",
    "lstm_model.compile(optimizer=\"adam\", loss=\"binary_crossentropy\", metrics=[\"accuracy\"])\n",
    "\n",
    "\n",
    "lstm_model.fit(X_train, Y_train, epochs=10, batch_size=128, validation_split=0.2)\n",
    "\n"
   ]
  },
  {
   "cell_type": "code",
   "execution_count": 17,
   "id": "874d1906-0695-49e7-afb7-299b93086732",
   "metadata": {},
   "outputs": [
    {
     "name": "stdout",
     "output_type": "stream",
     "text": [
      "\u001b[1m313/313\u001b[0m \u001b[32m━━━━━━━━━━━━━━━━━━━━\u001b[0m\u001b[37m\u001b[0m \u001b[1m9s\u001b[0m 29ms/step - accuracy: 0.8721 - loss: 0.3418\n",
      "LSTM Model - Test Loss: 0.3500\n",
      "LSTM Model - Test Accuracy: 0.8675\n"
     ]
    }
   ],
   "source": [
    "lstm_loss, lstm_accuracy = lstm_model.evaluate(X_test, Y_test)\n",
    "\n",
    "\n",
    "print(f\"LSTM Model - Test Loss: {lstm_loss:.4f}\")\n",
    "print(f\"LSTM Model - Test Accuracy: {lstm_accuracy:.4f}\")\n",
    "\n",
    "# Define function to predict sentiment using LSTM model\n",
    "def analyze_sentiment_lstm(review):\n",
    "    sequence = tokenizer.texts_to_sequences([review])\n",
    "    padded_sequence = pad_sequences(sequence, maxlen=200)\n",
    "    prediction = lstm_model.predict(padded_sequence)\n",
    "    return \"positive\" if prediction[0][0] > 0.5 else \"negative\"\n",
    "\n"
   ]
  },
  {
   "cell_type": "code",
   "execution_count": 19,
   "id": "2213be66-f1e7-47eb-b2f7-6fbc42a5c910",
   "metadata": {},
   "outputs": [
    {
     "name": "stdout",
     "output_type": "stream",
     "text": [
      "\u001b[1m1/1\u001b[0m \u001b[32m━━━━━━━━━━━━━━━━━━━━\u001b[0m\u001b[37m\u001b[0m \u001b[1m0s\u001b[0m 111ms/step\n",
      "LSTM Model - The sentiment of the review is: negative\n"
     ]
    }
   ],
   "source": [
    "\n",
    "# Example usage\n",
    "new_review = \"This movie was bad. I hate it.\"\n",
    "lstm_sentiment = analyze_sentiment_lstm(new_review)\n",
    "print(f\"LSTM Model - The sentiment of the review is: {lstm_sentiment}\")\n"
   ]
  },
  {
   "cell_type": "code",
   "execution_count": null,
   "id": "13d9976f-8153-4409-a945-56e3a00b9d99",
   "metadata": {},
   "outputs": [],
   "source": []
  },
  {
   "cell_type": "code",
   "execution_count": null,
   "id": "e4ca2e68-0042-4282-9c3a-9c821119c307",
   "metadata": {},
   "outputs": [],
   "source": []
  }
 ],
 "metadata": {
  "kernelspec": {
   "display_name": "Python 3 (ipykernel)",
   "language": "python",
   "name": "python3"
  },
  "language_info": {
   "codemirror_mode": {
    "name": "ipython",
    "version": 3
   },
   "file_extension": ".py",
   "mimetype": "text/x-python",
   "name": "python",
   "nbconvert_exporter": "python",
   "pygments_lexer": "ipython3",
   "version": "3.12.4"
  }
 },
 "nbformat": 4,
 "nbformat_minor": 5
}
